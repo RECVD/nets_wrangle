{
 "cells": [
  {
   "cell_type": "code",
   "execution_count": 1,
   "metadata": {
    "collapsed": true
   },
   "outputs": [],
   "source": [
    "import pandas as pd\n",
    "import numpy as np"
   ]
  },
  {
   "cell_type": "code",
   "execution_count": 2,
   "metadata": {
    "collapsed": true
   },
   "outputs": [],
   "source": [
    "empfile = \"C:\\Users\\jc4673\\Documents\\Columbia\\NETS_Clients2013ASCI\\NETS2013_Emp.txt\""
   ]
  },
  {
   "cell_type": "code",
   "execution_count": 3,
   "metadata": {
    "collapsed": true
   },
   "outputs": [],
   "source": [
    "emp = pd.read_table(empfile)"
   ]
  },
  {
   "cell_type": "code",
   "execution_count": 4,
   "metadata": {
    "collapsed": false
   },
   "outputs": [],
   "source": [
    "emp.set_index('DunsNumber', inplace=True)"
   ]
  },
  {
   "cell_type": "code",
   "execution_count": 5,
   "metadata": {
    "collapsed": false
   },
   "outputs": [],
   "source": [
    "empcols = [x for x in emp.columns.tolist() if x[3] in(['9', '0', '1'])]\n",
    "c_cols = [x for x in emp.columns.tolist() if x[3] == 'C']"
   ]
  },
  {
   "cell_type": "code",
   "execution_count": 6,
   "metadata": {
    "collapsed": false
   },
   "outputs": [],
   "source": [
    "nums = emp[empcols]\n",
    "codes = emp[c_cols]"
   ]
  },
  {
   "cell_type": "code",
   "execution_count": 7,
   "metadata": {
    "collapsed": false
   },
   "outputs": [],
   "source": [
    "nums.columns = range(1990, 2014)\n",
    "codes.columns = range(1990, 2014)"
   ]
  },
  {
   "cell_type": "code",
   "execution_count": 8,
   "metadata": {
    "collapsed": false
   },
   "outputs": [
    {
     "data": {
      "text/plain": [
       "DunsNumber      \n",
       "1000009     1990    0.0\n",
       "            1991    0.0\n",
       "            1992    0.0\n",
       "            1993    0.0\n",
       "            1994    0.0\n",
       "            1995    0.0\n",
       "            1996    0.0\n",
       "            1997    0.0\n",
       "            1998    0.0\n",
       "            1999    0.0\n",
       "            2000    0.0\n",
       "            2001    0.0\n",
       "            2002    0.0\n",
       "            2003    0.0\n",
       "            2004    0.0\n",
       "            2005    0.0\n",
       "            2006    0.0\n",
       "            2007    0.0\n",
       "1000012     2001    2.0\n",
       "1000020     2001    2.0\n",
       "            2002    3.0\n",
       "            2003    3.0\n",
       "            2004    0.0\n",
       "            2005    0.0\n",
       "            2006    0.0\n",
       "            2007    0.0\n",
       "            2008    0.0\n",
       "1000038     1999    3.0\n",
       "            2000    3.0\n",
       "            2001    0.0\n",
       "                   ... \n",
       "969999960   2000    3.0\n",
       "            2001    0.0\n",
       "            2002    0.0\n",
       "            2003    0.0\n",
       "969999965   2012    0.0\n",
       "            2013    0.0\n",
       "969999973   2012    0.0\n",
       "            2013    0.0\n",
       "969999981   2011    3.0\n",
       "            2012    0.0\n",
       "            2013    0.0\n",
       "969999994   1998    2.0\n",
       "            1999    3.0\n",
       "            2000    3.0\n",
       "            2001    3.0\n",
       "            2002    3.0\n",
       "            2003    3.0\n",
       "            2004    3.0\n",
       "            2005    3.0\n",
       "            2006    3.0\n",
       "            2007    3.0\n",
       "            2008    3.0\n",
       "            2009    3.0\n",
       "            2010    2.0\n",
       "            2011    2.0\n",
       "            2012    2.0\n",
       "            2013    2.0\n",
       "969999999   2011    3.0\n",
       "            2012    2.0\n",
       "            2013    2.0\n",
       "Name: EmpC, dtype: float64"
      ]
     },
     "execution_count": 8,
     "metadata": {},
     "output_type": "execute_result"
    }
   ],
   "source": [
    "nums = nums.stack()\n",
    "codes = codes.stack()\n",
    "\n",
    "nums.rename('NumEmp', inplace=True)\n",
    "codes.rename('EmpC', inplace=True)"
   ]
  },
  {
   "cell_type": "code",
   "execution_count": 9,
   "metadata": {
    "collapsed": false
   },
   "outputs": [],
   "source": [
    "emp = pd.concat([nums, codes], axis=1)"
   ]
  },
  {
   "cell_type": "code",
   "execution_count": 11,
   "metadata": {
    "collapsed": false
   },
   "outputs": [],
   "source": [
    "emp.to_hdf(\"C:\\Users\\jc4673\\Documents\\Columbia\\NETS2013_Wrangled\\NETS2013_Other.h5\", 'Emp')"
   ]
  },
  {
   "cell_type": "code",
   "execution_count": null,
   "metadata": {
    "collapsed": true
   },
   "outputs": [],
   "source": []
  }
 ],
 "metadata": {
  "anaconda-cloud": {},
  "kernelspec": {
   "display_name": "Python [Root]",
   "language": "python",
   "name": "Python [Root]"
  },
  "language_info": {
   "codemirror_mode": {
    "name": "ipython",
    "version": 2
   },
   "file_extension": ".py",
   "mimetype": "text/x-python",
   "name": "python",
   "nbconvert_exporter": "python",
   "pygments_lexer": "ipython2",
   "version": "2.7.12"
  }
 },
 "nbformat": 4,
 "nbformat_minor": 0
}
